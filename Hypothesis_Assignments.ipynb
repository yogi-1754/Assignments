{
 "cells": [
  {
   "cell_type": "markdown",
   "id": "06bf0d84-dba8-4e6e-bf2c-7124fc7b1fc9",
   "metadata": {},
   "source": [
    "## HYPOTHESIS TESTING"
   ]
  },
  {
   "cell_type": "code",
   "execution_count": 2,
   "id": "f550631e-bcd9-4c93-9e2d-720739a706d1",
   "metadata": {},
   "outputs": [],
   "source": [
    "import pandas as pd\n",
    "import numpy as np\n",
    "from scipy import stats"
   ]
  },
  {
   "cell_type": "markdown",
   "id": "7be7cb05-d09f-4e6d-9514-9f0679a7821b",
   "metadata": {},
   "source": [
    "## 1. State the Hypothesis statement:"
   ]
  },
  {
   "cell_type": "code",
   "execution_count": null,
   "id": "4851b8da-a82f-4d6c-885f-c3935a88a7ce",
   "metadata": {},
   "outputs": [],
   "source": [
    "Hyppthesis Testing is a statistical method that used in making statistical decision using experiment data, \n",
    "hypothesis testing is basically an assumption that we make about the population parameter.\n",
    "Null Hypothesis (H₀): Assumes there is no significant effect or relationship between variables.\n",
    "Alternative Hypothesis (H₁ or Ha): Assumes there is a significant effect or relationship between variables."
   ]
  },
  {
   "cell_type": "code",
   "execution_count": null,
   "id": "2d0ebe19-71ca-4925-b579-6a0a38cc94ad",
   "metadata": {},
   "outputs": [],
   "source": []
  },
  {
   "cell_type": "markdown",
   "id": "e187a8c0-4745-4cbe-b349-979a3adbe59c",
   "metadata": {},
   "source": [
    "## 2. Calculate the Test Statistic: "
   ]
  },
  {
   "cell_type": "code",
   "execution_count": 2,
   "id": "d8082234-2b45-4acf-a78e-a4a1dcd40528",
   "metadata": {},
   "outputs": [],
   "source": []
  },
  {
   "cell_type": "code",
   "execution_count": 1,
   "id": "1cc1ca39-ad8d-45df-96d9-5a42f2cfa759",
   "metadata": {},
   "outputs": [
    {
     "name": "stdout",
     "output_type": "stream",
     "text": [
      "Theoretical mean weekly cost (μ): 4000 Rs\n",
      "Test Statistic (t): -38.0\n"
     ]
    }
   ],
   "source": [
    "import numpy as np\n",
    "\n",
    "\n",
    "x_bar = 3050 \n",
    "n = 25  \n",
    "sigma = 5 * 25 \n",
    "\n",
    "X = 600  \n",
    "mu = 1000 + 5 * X  \n",
    "print(f\"Theoretical mean weekly cost (μ): {mu} Rs\")\n",
    "\n",
    "\n",
    "t_statistic = (x_bar - mu) / (sigma / np.sqrt(n))\n",
    "print(f\"Test Statistic (t): {t_statistic}\")\n"
   ]
  },
  {
   "cell_type": "code",
   "execution_count": null,
   "id": "f6a29325-bedc-4d41-8bd2-4b4e1d7bcbe0",
   "metadata": {},
   "outputs": [],
   "source": []
  },
  {
   "cell_type": "markdown",
   "id": "a91ac73c-3f55-4a07-beb6-37c9702e31ec",
   "metadata": {},
   "source": [
    "## 3. Determine the Critical Value:\n",
    "Using the alpha level of 5% (α = 0.05), determine the critical value from the standard normal (Z) distribution table.\n"
   ]
  },
  {
   "cell_type": "code",
   "execution_count": 3,
   "id": "1ca4f624-fc3a-4898-b75f-4cdd75dde31b",
   "metadata": {},
   "outputs": [
    {
     "data": {
      "text/plain": [
       "0.35364376119863666"
      ]
     },
     "execution_count": 3,
     "metadata": {},
     "output_type": "execute_result"
    }
   ],
   "source": [
    "#stats.t.cdf(t,df)\n",
    "stats.t.cdf(-.38,24)"
   ]
  },
  {
   "cell_type": "code",
   "execution_count": null,
   "id": "afdbc9cc-86da-4f02-a3e0-42a1e4ecc65e",
   "metadata": {},
   "outputs": [],
   "source": []
  },
  {
   "cell_type": "code",
   "execution_count": 5,
   "id": "92544955-0dd0-4a00-931d-b806baee3fa2",
   "metadata": {},
   "outputs": [
    {
     "name": "stdout",
     "output_type": "stream",
     "text": [
      "Rounded Value= 1.6449\n"
     ]
    }
   ],
   "source": [
    "import scipy.stats as stats\n",
    "\n",
    "alpha = 0.05   # Define the significance level\n",
    "z_critical = stats.norm.ppf(1 - alpha)\n",
    "\n",
    "z_critical\n",
    "print(\"Rounded Value=\",round(z_critical,4))"
   ]
  },
  {
   "cell_type": "code",
   "execution_count": null,
   "id": "6cc1eb3f-e7a2-4d7d-b4db-9fe01aa2809b",
   "metadata": {},
   "outputs": [],
   "source": []
  },
  {
   "cell_type": "markdown",
   "id": "f0344071-8a22-455a-b829-fd1bc23b968c",
   "metadata": {},
   "source": [
    "## 4. Make a Decision:\n",
    "Compare the test statistic with the critical value to decide whether to reject the null hypothesis.\n"
   ]
  },
  {
   "cell_type": "code",
   "execution_count": null,
   "id": "c08cee53-902b-44dd-bd7a-ccc1c5637910",
   "metadata": {},
   "outputs": [],
   "source": [
    "## t = -38\n",
    "## z = 1.6449"
   ]
  },
  {
   "cell_type": "code",
   "execution_count": null,
   "id": "d3450c96-69c7-4524-93b1-e1b984eb94ab",
   "metadata": {},
   "outputs": [],
   "source": [
    "In this case: [ -38 < 1.6449 ]\n",
    "\n",
    " we reject the null hypothesis."
   ]
  },
  {
   "cell_type": "code",
   "execution_count": null,
   "id": "6e40cb41-2489-4955-801e-b7220077de7a",
   "metadata": {},
   "outputs": [],
   "source": []
  },
  {
   "cell_type": "markdown",
   "id": "a9c6d79b-021d-4084-be66-e4a65979ba4b",
   "metadata": {},
   "source": [
    "## 5. Conclusion:"
   ]
  },
  {
   "cell_type": "code",
   "execution_count": null,
   "id": "d8451f18-2038-43e9-9368-ea6fe09fbc9c",
   "metadata": {},
   "outputs": [],
   "source": [
    "Based on the decision in step 4, there is strong evidence to support the restaurant owners’ claim that the weekly operating\n",
    "costs are higher than the model suggests."
   ]
  },
  {
   "cell_type": "code",
   "execution_count": null,
   "id": "0d9e9ec6-6270-47f5-aa54-13a0a76839f6",
   "metadata": {},
   "outputs": [],
   "source": []
  },
  {
   "cell_type": "code",
   "execution_count": null,
   "id": "ad065717-ce09-4fdf-a3db-14e4b8467135",
   "metadata": {},
   "outputs": [],
   "source": []
  },
  {
   "cell_type": "code",
   "execution_count": null,
   "id": "ca65824b-5a34-477b-bf54-b6de7283c558",
   "metadata": {},
   "outputs": [],
   "source": []
  },
  {
   "cell_type": "code",
   "execution_count": null,
   "id": "406e5689-4798-4a61-be4c-dbcc09b3b562",
   "metadata": {},
   "outputs": [],
   "source": []
  },
  {
   "cell_type": "code",
   "execution_count": null,
   "id": "39c20d7f-e091-41fe-a60d-5b9f8e2b0a57",
   "metadata": {},
   "outputs": [],
   "source": []
  },
  {
   "cell_type": "code",
   "execution_count": null,
   "id": "19adb53f-71a9-450d-98d8-53db997422ea",
   "metadata": {},
   "outputs": [],
   "source": []
  },
  {
   "cell_type": "code",
   "execution_count": null,
   "id": "46e04cce-8350-473b-aa9c-fbe8a5cda15e",
   "metadata": {},
   "outputs": [],
   "source": []
  },
  {
   "cell_type": "code",
   "execution_count": null,
   "id": "6054026b-1643-4165-847d-d18cb8717350",
   "metadata": {},
   "outputs": [],
   "source": []
  },
  {
   "cell_type": "code",
   "execution_count": null,
   "id": "7b7ab955-ad2d-4c81-b13e-e6283043af1d",
   "metadata": {},
   "outputs": [],
   "source": []
  },
  {
   "cell_type": "code",
   "execution_count": null,
   "id": "ee678c28-a5da-4661-a0c3-066d3b8dbff2",
   "metadata": {},
   "outputs": [],
   "source": []
  },
  {
   "cell_type": "code",
   "execution_count": null,
   "id": "11a4920e-05c2-465f-bb19-000c60db9818",
   "metadata": {},
   "outputs": [],
   "source": []
  }
 ],
 "metadata": {
  "kernelspec": {
   "display_name": "Python 3 (ipykernel)",
   "language": "python",
   "name": "python3"
  },
  "language_info": {
   "codemirror_mode": {
    "name": "ipython",
    "version": 3
   },
   "file_extension": ".py",
   "mimetype": "text/x-python",
   "name": "python",
   "nbconvert_exporter": "python",
   "pygments_lexer": "ipython3",
   "version": "3.12.4"
  }
 },
 "nbformat": 4,
 "nbformat_minor": 5
}
