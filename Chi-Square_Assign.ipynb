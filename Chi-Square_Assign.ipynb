{
 "cells": [
  {
   "cell_type": "markdown",
   "id": "12135f58-8131-4d34-998b-556f224a32aa",
   "metadata": {},
   "source": [
    "## CHI-SQUARE TEST"
   ]
  },
  {
   "cell_type": "code",
   "execution_count": 3,
   "id": "dfd638e6-b52e-40cf-a53f-ec39bf046cf6",
   "metadata": {},
   "outputs": [],
   "source": [
    "from scipy.stats import chi2_contingency\n",
    "from matplotlib import pyplot as plt\n",
    "import pandas as pd"
   ]
  },
  {
   "cell_type": "code",
   "execution_count": null,
   "id": "68cc757d-d280-48ea-af0e-4258ea2d9b6f",
   "metadata": {},
   "outputs": [],
   "source": []
  },
  {
   "cell_type": "markdown",
   "id": "07415671-4bac-4528-9dd5-5c12bb4c67df",
   "metadata": {},
   "source": [
    "## 1. State the Hypotheses: "
   ]
  },
  {
   "cell_type": "code",
   "execution_count": null,
   "id": "836b3c8c-efc1-403e-b08f-c411689b76a1",
   "metadata": {},
   "outputs": [],
   "source": [
    "The chi-square hypothesis test is a statistical method used to determine whether there is a significant association \n",
    "between two categorical variables. The test compares the observed frequencies in each category of a contingency table to the \n",
    "frequencies expected if there were no association between the variables.\n"
   ]
  },
  {
   "cell_type": "code",
   "execution_count": 5,
   "id": "59400715-0bad-471c-bddb-e3bfe1618ab7",
   "metadata": {},
   "outputs": [],
   "source": [
    "data = [[50,70,120],\n",
    "        [80,100,180],\n",
    "        [60,90,150],\n",
    "        [30,50,180],\n",
    "        [20,50,70],\n",
    "        [240,360,600]]"
   ]
  },
  {
   "cell_type": "code",
   "execution_count": 7,
   "id": "9950e561-848a-45ce-947d-23e464fada30",
   "metadata": {},
   "outputs": [],
   "source": [
    "df = pd.DataFrame(data,\n",
    "                 index=['Very Satisfied','Satisfied','Neutral','Unsatisfied','Very Unsatisfied','Total'],\n",
    "                 columns=['SmartThermostat','SmartLight','Total'])"
   ]
  },
  {
   "cell_type": "code",
   "execution_count": 8,
   "id": "359ffc72-5211-4b93-8ea3-8f5f19aa8079",
   "metadata": {},
   "outputs": [
    {
     "data": {
      "text/html": [
       "<div>\n",
       "<style scoped>\n",
       "    .dataframe tbody tr th:only-of-type {\n",
       "        vertical-align: middle;\n",
       "    }\n",
       "\n",
       "    .dataframe tbody tr th {\n",
       "        vertical-align: top;\n",
       "    }\n",
       "\n",
       "    .dataframe thead th {\n",
       "        text-align: right;\n",
       "    }\n",
       "</style>\n",
       "<table border=\"1\" class=\"dataframe\">\n",
       "  <thead>\n",
       "    <tr style=\"text-align: right;\">\n",
       "      <th></th>\n",
       "      <th>SmartThermostat</th>\n",
       "      <th>SmartLight</th>\n",
       "      <th>Total</th>\n",
       "    </tr>\n",
       "  </thead>\n",
       "  <tbody>\n",
       "    <tr>\n",
       "      <th>Very Satisfied</th>\n",
       "      <td>50</td>\n",
       "      <td>70</td>\n",
       "      <td>120</td>\n",
       "    </tr>\n",
       "    <tr>\n",
       "      <th>Satisfied</th>\n",
       "      <td>80</td>\n",
       "      <td>100</td>\n",
       "      <td>180</td>\n",
       "    </tr>\n",
       "    <tr>\n",
       "      <th>Neutral</th>\n",
       "      <td>60</td>\n",
       "      <td>90</td>\n",
       "      <td>150</td>\n",
       "    </tr>\n",
       "    <tr>\n",
       "      <th>Unsatisfied</th>\n",
       "      <td>30</td>\n",
       "      <td>50</td>\n",
       "      <td>180</td>\n",
       "    </tr>\n",
       "    <tr>\n",
       "      <th>Very Unsatisfied</th>\n",
       "      <td>20</td>\n",
       "      <td>50</td>\n",
       "      <td>70</td>\n",
       "    </tr>\n",
       "    <tr>\n",
       "      <th>Total</th>\n",
       "      <td>240</td>\n",
       "      <td>360</td>\n",
       "      <td>600</td>\n",
       "    </tr>\n",
       "  </tbody>\n",
       "</table>\n",
       "</div>"
      ],
      "text/plain": [
       "                  SmartThermostat  SmartLight  Total\n",
       "Very Satisfied                 50          70    120\n",
       "Satisfied                      80         100    180\n",
       "Neutral                        60          90    150\n",
       "Unsatisfied                    30          50    180\n",
       "Very Unsatisfied               20          50     70\n",
       "Total                         240         360    600"
      ]
     },
     "execution_count": 8,
     "metadata": {},
     "output_type": "execute_result"
    }
   ],
   "source": [
    "df"
   ]
  },
  {
   "cell_type": "code",
   "execution_count": 11,
   "id": "53b5aa6b-4569-4c16-9923-668d008a34ef",
   "metadata": {},
   "outputs": [
    {
     "data": {
      "text/plain": [
       "<Axes: >"
      ]
     },
     "execution_count": 11,
     "metadata": {},
     "output_type": "execute_result"
    },
    {
     "data": {
      "image/png": "[encoded data removed]",
      "text/plain": [
       "<Figure size 640x480 with 1 Axes>"
      ]
     },
     "metadata": {},
     "output_type": "display_data"
    }
   ],
   "source": [
    "df.plot(kind='bar',\n",
    "       stacked=False)"
   ]
  },
  {
   "cell_type": "code",
   "execution_count": 14,
   "id": "6f6fb8bd-9f91-409e-88f7-13827bb9050b",
   "metadata": {},
   "outputs": [],
   "source": [
    "chi2,p,dof,exp=chi2_contingency(data)"
   ]
  },
  {
   "cell_type": "code",
   "execution_count": 15,
   "id": "d7351a33-77b9-410d-9318-b7ba4837ceea",
   "metadata": {},
   "outputs": [
    {
     "data": {
      "text/plain": [
       "Chi2ContingencyResult(statistic=40.30645206526617, pvalue=1.4963266954583255e-05, dof=10, expected_freq=array([[ 46.08,  69.12, 124.8 ],\n",
       "       [ 69.12, 103.68, 187.2 ],\n",
       "       [ 57.6 ,  86.4 , 156.  ],\n",
       "       [ 49.92,  74.88, 135.2 ],\n",
       "       [ 26.88,  40.32,  72.8 ],\n",
       "       [230.4 , 345.6 , 624.  ]]))"
      ]
     },
     "execution_count": 15,
     "metadata": {},
     "output_type": "execute_result"
    }
   ],
   "source": [
    "chi2_contingency(data)"
   ]
  },
  {
   "cell_type": "code",
   "execution_count": 16,
   "id": "72c17f37-49c0-429f-87fc-7c5bc350b194",
   "metadata": {},
   "outputs": [
    {
     "data": {
      "text/plain": [
       "40.30645206526617"
      ]
     },
     "execution_count": 16,
     "metadata": {},
     "output_type": "execute_result"
    }
   ],
   "source": [
    "chi2"
   ]
  },
  {
   "cell_type": "code",
   "execution_count": 17,
   "id": "963abd67-c696-4e0c-a7fa-488214d3e163",
   "metadata": {},
   "outputs": [
    {
     "data": {
      "text/plain": [
       "1.4963266954583255e-05"
      ]
     },
     "execution_count": 17,
     "metadata": {},
     "output_type": "execute_result"
    }
   ],
   "source": [
    "p"
   ]
  },
  {
   "cell_type": "code",
   "execution_count": 18,
   "id": "8883b1fa-869f-41bf-b1e9-abf0b62efe6a",
   "metadata": {},
   "outputs": [
    {
     "data": {
      "text/plain": [
       "10"
      ]
     },
     "execution_count": 18,
     "metadata": {},
     "output_type": "execute_result"
    }
   ],
   "source": [
    "dof"
   ]
  },
  {
   "cell_type": "code",
   "execution_count": 19,
   "id": "48d7f165-7f53-4b2b-9df7-f48ba67cad3c",
   "metadata": {},
   "outputs": [
    {
     "data": {
      "text/plain": [
       "array([[ 46.08,  69.12, 124.8 ],\n",
       "       [ 69.12, 103.68, 187.2 ],\n",
       "       [ 57.6 ,  86.4 , 156.  ],\n",
       "       [ 49.92,  74.88, 135.2 ],\n",
       "       [ 26.88,  40.32,  72.8 ],\n",
       "       [230.4 , 345.6 , 624.  ]])"
      ]
     },
     "execution_count": 19,
     "metadata": {},
     "output_type": "execute_result"
    }
   ],
   "source": [
    "exp"
   ]
  },
  {
   "cell_type": "markdown",
   "id": "9aad9ea0-d878-4ca5-9399-480cc6de9d56",
   "metadata": {},
   "source": [
    "## 3. Determine the Critical Value:"
   ]
  },
  {
   "cell_type": "code",
   "execution_count": 23,
   "id": "a71566c5-fac3-4632-b61d-18206adfdb12",
   "metadata": {},
   "outputs": [
    {
     "data": {
      "text/plain": [
       "1.4963266954583255e-05"
      ]
     },
     "execution_count": 23,
     "metadata": {},
     "output_type": "execute_result"
    }
   ],
   "source": [
    "p"
   ]
  },
  {
   "cell_type": "code",
   "execution_count": null,
   "id": "96739778-3218-40f6-96ae-8ec7e613effc",
   "metadata": {},
   "outputs": [],
   "source": [
    "#a = 0.05\n",
    "#P>a"
   ]
  },
  {
   "cell_type": "code",
   "execution_count": null,
   "id": "63109d31-815f-46a0-baad-028b8503a9e8",
   "metadata": {},
   "outputs": [],
   "source": [
    "it suggests there’s no significant association between device type and satisfaction level."
   ]
  },
  {
   "cell_type": "code",
   "execution_count": null,
   "id": "1aed0d3d-6009-4a3f-b9af-74e3b74f703f",
   "metadata": {},
   "outputs": [],
   "source": []
  },
  {
   "cell_type": "code",
   "execution_count": null,
   "id": "eee09a80-ab97-4bd5-85bd-170687ea1c80",
   "metadata": {},
   "outputs": [],
   "source": []
  },
  {
   "cell_type": "code",
   "execution_count": null,
   "id": "f48eaef2-537e-41b7-a568-ec6daff32d6b",
   "metadata": {},
   "outputs": [],
   "source": []
  },
  {
   "cell_type": "code",
   "execution_count": null,
   "id": "192466d4-eedf-4b8b-a3a6-aa3076bad57b",
   "metadata": {},
   "outputs": [],
   "source": []
  },
  {
   "cell_type": "code",
   "execution_count": null,
   "id": "b536a047-1957-44fc-a74a-b8fd1489c0e6",
   "metadata": {},
   "outputs": [],
   "source": []
  },
  {
   "cell_type": "code",
   "execution_count": null,
   "id": "e6f180d9-a1c4-4484-824a-73c677475dd6",
   "metadata": {},
   "outputs": [],
   "source": []
  },
  {
   "cell_type": "code",
   "execution_count": null,
   "id": "eb428edd-9bcd-4005-9d0f-60233ae5b2d3",
   "metadata": {},
   "outputs": [],
   "source": []
  },
  {
   "cell_type": "code",
   "execution_count": null,
   "id": "ba6caf74-3e47-4693-920a-ad39f125cec3",
   "metadata": {},
   "outputs": [],
   "source": []
  },
  {
   "cell_type": "code",
   "execution_count": null,
   "id": "473ede1f-a7fe-4df9-9380-79b69c84a57b",
   "metadata": {},
   "outputs": [],
   "source": []
  },
  {
   "cell_type": "code",
   "execution_count": null,
   "id": "a50020a5-08f9-427f-b486-b73c18b01289",
   "metadata": {},
   "outputs": [],
   "source": []
  },
  {
   "cell_type": "code",
   "execution_count": null,
   "id": "902752b0-67f8-4c98-aece-2c1d29309457",
   "metadata": {},
   "outputs": [],
   "source": []
  },
  {
   "cell_type": "code",
   "execution_count": null,
   "id": "742480b1-eaef-485f-9feb-e7cd5ea34652",
   "metadata": {},
   "outputs": [],
   "source": []
  },
  {
   "cell_type": "code",
   "execution_count": null,
   "id": "448664a2-9088-42de-b10c-47474ad39af5",
   "metadata": {},
   "outputs": [],
   "source": []
  }
 ],
 "metadata": {
  "kernelspec": {
   "display_name": "Python 3 (ipykernel)",
   "language": "python",
   "name": "python3"
  },
  "language_info": {
   "codemirror_mode": {
    "name": "ipython",
    "version": 3
   },
   "file_extension": ".py",
   "mimetype": "text/x-python",
   "name": "python",
   "nbconvert_exporter": "python",
   "pygments_lexer": "ipython3",
   "version": "3.12.4"
  }
 },
 "nbformat": 4,
 "nbformat_minor": 5
}
