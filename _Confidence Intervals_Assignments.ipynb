{
 "cells": [
  {
   "cell_type": "code",
   "execution_count": null,
   "id": "d8151a84-0bd9-47a1-89b6-d8cfa714a511",
   "metadata": {},
   "outputs": [],
   "source": []
  },
  {
   "cell_type": "code",
   "execution_count": null,
   "id": "49a0e763-29a7-4efb-a848-c92306cf523a",
   "metadata": {},
   "outputs": [],
   "source": []
  },
  {
   "cell_type": "code",
   "execution_count": null,
   "id": "52c667e9-261b-448f-b572-2824caa4bc4f",
   "metadata": {},
   "outputs": [],
   "source": []
  },
  {
   "cell_type": "code",
   "execution_count": 15,
   "id": "69a6bca0-7662-41ba-bfcc-79b9cd5ccff5",
   "metadata": {},
   "outputs": [
    {
     "name": "stdout",
     "output_type": "stream",
     "text": [
      " Volume in drive C is OS\n",
      " Volume Serial Number is 4822-F34A\n",
      "\n",
      " Directory of C:\\Users\\YOGENDRA JANGID\n",
      "\n",
      "09/02/2024  21:58             4,284  Confidence Intervals_Assignments.ipynb\n",
      "09/02/2024  21:58    <DIR>          .\n",
      "08/06/2024  06:00    <DIR>          ..\n",
      "08/06/2024  14:31    <DIR>          .anaconda\n",
      "08/06/2024  15:42    <DIR>          .conda\n",
      "08/06/2024  14:32                25 .condarc\n",
      "08/06/2024  14:31    <DIR>          .continuum\n",
      "09/02/2024  21:47    <DIR>          .ipynb_checkpoints\n",
      "08/06/2024  14:35    <DIR>          .ipython\n",
      "08/06/2024  14:34    <DIR>          .jupyter\n",
      "08/09/2024  08:46    <DIR>          .matplotlib\n",
      "08/27/2024  12:23    <DIR>          anaconda3\n",
      "08/31/2024  12:37           558,712 assignment with.ipynb\n",
      "08/08/2024  16:26            87,155 beml_df.csv\n",
      "08/21/2024  15:58             3,527 Cars.csv\n",
      "08/24/2024  20:57            40,514 Chi-Square_Assign.ipynb\n",
      "08/06/2024  05:26    <DIR>          Contacts\n",
      "09/02/2024  16:08    <DIR>          data science  file\n",
      "08/15/2024  17:27    <DIR>          Documents\n",
      "09/02/2024  21:45    <DIR>          Downloads\n",
      "08/27/2024  17:25    <DIR>          EDA_Assignments\n",
      "08/06/2024  05:26    <DIR>          Favorites\n",
      "08/24/2024  19:07             7,729 Hypothesis_Assignments.ipynb\n",
      "08/20/2024  08:07            35,706 jumjhak.ipynb\n",
      "08/14/2024  20:16            15,050 linkdin 2nd.jpg\n",
      "08/06/2024  05:26    <DIR>          Links\n",
      "08/06/2024  06:34    <DIR>          Microsoft\n",
      "08/15/2024  08:25            32,910 OIP (1).jpeg\n",
      "09/02/2024  19:17    <DIR>          OneDrive\n",
      "08/15/2024  09:03            13,478 penguins.csv\n",
      "08/17/2024  22:58             8,492 Python_Assignment.ipynb\n",
      "09/02/2024  09:04    <DIR>          Regression_Assignments\n",
      "08/20/2024  09:31             5,166 Rishbh.ipynb\n",
      "08/06/2024  05:26    <DIR>          Saved Games\n",
      "08/06/2024  06:00    <DIR>          Searches\n",
      "08/22/2024  16:03         2,427,802 SMultiLinRegNewFinal.ipynb\n",
      "08/20/2024  15:11           655,901 Snews_paper.ipynb\n",
      "09/02/2024  21:39    <DIR>          Statics_Assign\n",
      "08/09/2024  19:44            60,302 titanic.csv\n",
      "08/31/2024  20:31         2,493,131 Untitled.ipynb\n",
      "09/01/2024  19:48            57,216 Untitled1.ipynb\n",
      "08/14/2024  08:57           160,800 wp2855091 (1).webp\n",
      "              19 File(s)      6,667,900 bytes\n",
      "              23 Dir(s)  109,368,643,584 bytes free\n"
     ]
    }
   ],
   "source": [
    "ls \n"
   ]
  },
  {
   "cell_type": "code",
   "execution_count": 1,
   "id": "471e6547-d26f-47eb-bedb-5b4acd4c0f97",
   "metadata": {},
   "outputs": [],
   "source": [
    "import pandas as pd\n",
    "import numpy as np\n",
    "import scipy.stats as stats"
   ]
  },
  {
   "cell_type": "code",
   "execution_count": 2,
   "id": "daa867ff-8f48-4c61-88be-97a8331e4ba8",
   "metadata": {},
   "outputs": [],
   "source": [
    "df = [1.13, 1.55, 1.43, 0.92, 1.25, 1.36, 1.32, 0.85, 1.07, 1.48, 1.20, 1.33, 1.18, 1.22, 1.29]"
   ]
  },
  {
   "cell_type": "code",
   "execution_count": 3,
   "id": "8be97d59-4efc-449d-9a31-4f77aafd0148",
   "metadata": {},
   "outputs": [
    {
     "data": {
      "text/plain": [
       "[1.13,\n",
       " 1.55,\n",
       " 1.43,\n",
       " 0.92,\n",
       " 1.25,\n",
       " 1.36,\n",
       " 1.32,\n",
       " 0.85,\n",
       " 1.07,\n",
       " 1.48,\n",
       " 1.2,\n",
       " 1.33,\n",
       " 1.18,\n",
       " 1.22,\n",
       " 1.29]"
      ]
     },
     "execution_count": 3,
     "metadata": {},
     "output_type": "execute_result"
    }
   ],
   "source": [
    "df"
   ]
  },
  {
   "cell_type": "code",
   "execution_count": 5,
   "id": "1e4d27ad-3a28-4423-9819-82f0c79a7e0b",
   "metadata": {},
   "outputs": [
    {
     "data": {
      "text/plain": [
       "15"
      ]
     },
     "execution_count": 5,
     "metadata": {},
     "output_type": "execute_result"
    }
   ],
   "source": [
    "len(df)"
   ]
  },
  {
   "cell_type": "markdown",
   "id": "dd6c775d-8181-49e7-8a97-297f1b6bdce6",
   "metadata": {},
   "source": [
    "## a. Build 99% Confidence Interval Using Sample Standard Deviation"
   ]
  },
  {
   "cell_type": "code",
   "execution_count": 9,
   "id": "5cc67015-6913-4875-9f87-5a49527449aa",
   "metadata": {},
   "outputs": [],
   "source": [
    "c_I  = 0.99\n",
    "Mean = np.mean(df)\n",
    "std = np.std(df,ddof = 1)"
   ]
  },
  {
   "cell_type": "code",
   "execution_count": 13,
   "id": "9236a9f8-6863-48db-b985-9699644a9b6b",
   "metadata": {},
   "outputs": [
    {
     "data": {
      "text/plain": [
       "1.2386666666666666"
      ]
     },
     "execution_count": 13,
     "metadata": {},
     "output_type": "execute_result"
    }
   ],
   "source": [
    "Mean\n"
   ]
  },
  {
   "cell_type": "code",
   "execution_count": 19,
   "id": "b46ba7c8-f8b7-4328-aa91-fea9478a0cdc",
   "metadata": {},
   "outputs": [
    {
     "data": {
      "text/plain": [
       "0.19316412956959936"
      ]
     },
     "execution_count": 19,
     "metadata": {},
     "output_type": "execute_result"
    }
   ],
   "source": [
    "std"
   ]
  },
  {
   "cell_type": "code",
   "execution_count": 23,
   "id": "9b00e7a0-bdb5-4dd4-b91f-8a2660da4048",
   "metadata": {},
   "outputs": [],
   "source": [
    "confidence_level = 0.99\n",
    "n = 15"
   ]
  },
  {
   "cell_type": "code",
   "execution_count": 24,
   "id": "b3b3ad55-ddd4-46b2-967d-6bb614e78a04",
   "metadata": {},
   "outputs": [],
   "source": [
    "t_value = stats.t.ppf((1 + confidence_level) / 2, df=n - 1)"
   ]
  },
  {
   "cell_type": "code",
   "execution_count": 25,
   "id": "e0d00255-a483-47d4-8390-0eee359fa32b",
   "metadata": {},
   "outputs": [
    {
     "data": {
      "text/plain": [
       "2.976842734370834"
      ]
     },
     "execution_count": 25,
     "metadata": {},
     "output_type": "execute_result"
    }
   ],
   "source": [
    "t_value "
   ]
  },
  {
   "cell_type": "code",
   "execution_count": 26,
   "id": "4b2981ef-6a74-4659-8fe9-42435c32d64a",
   "metadata": {},
   "outputs": [],
   "source": [
    "stnd = std/ np.sqrt(n)"
   ]
  },
  {
   "cell_type": "code",
   "execution_count": 27,
   "id": "e25beb95-17b8-416f-aa6f-def1b058cbd5",
   "metadata": {},
   "outputs": [
    {
     "data": {
      "text/plain": [
       "0.04987476379384733"
      ]
     },
     "execution_count": 27,
     "metadata": {},
     "output_type": "execute_result"
    }
   ],
   "source": [
    "stnd"
   ]
  },
  {
   "cell_type": "code",
   "execution_count": 28,
   "id": "58774a96-5e98-4908-9f00-7d3654d75ea6",
   "metadata": {},
   "outputs": [],
   "source": [
    "t_value = stats.t.ppf((1 + confidence_level) / 2, df=n - 1)"
   ]
  },
  {
   "cell_type": "code",
   "execution_count": 29,
   "id": "bd3ab0f2-919d-41f5-a49b-6c01bec325ba",
   "metadata": {},
   "outputs": [
    {
     "data": {
      "text/plain": [
       "2.976842734370834"
      ]
     },
     "execution_count": 29,
     "metadata": {},
     "output_type": "execute_result"
    }
   ],
   "source": [
    "t_value"
   ]
  },
  {
   "cell_type": "code",
   "execution_count": 31,
   "id": "ab2d5d71-2409-4de4-b871-e72ca91b798d",
   "metadata": {},
   "outputs": [],
   "source": [
    "se_sample =std/ np.sqrt(n)\n"
   ]
  },
  {
   "cell_type": "code",
   "execution_count": 32,
   "id": "4d09c699-c136-4c39-be2d-91180a36ccda",
   "metadata": {},
   "outputs": [
    {
     "data": {
      "text/plain": [
       "0.04987476379384733"
      ]
     },
     "execution_count": 32,
     "metadata": {},
     "output_type": "execute_result"
    }
   ],
   "source": [
    "se_sample"
   ]
  },
  {
   "cell_type": "code",
   "execution_count": 34,
   "id": "28aee361-f636-48fa-bca8-02e264fa8c13",
   "metadata": {},
   "outputs": [],
   "source": [
    "Lower = Mean - t_value * se_sample\n",
    "Upper= Mean + t_value * se_sample"
   ]
  },
  {
   "cell_type": "code",
   "execution_count": 35,
   "id": "79c8faf1-67cf-45d2-a540-af75b330653b",
   "metadata": {},
   "outputs": [
    {
     "data": {
      "text/plain": [
       "1.0901973384384906"
      ]
     },
     "execution_count": 35,
     "metadata": {},
     "output_type": "execute_result"
    }
   ],
   "source": [
    "Lower"
   ]
  },
  {
   "cell_type": "code",
   "execution_count": 36,
   "id": "48366eb9-e73f-4556-b7ac-688e4bc98969",
   "metadata": {},
   "outputs": [
    {
     "data": {
      "text/plain": [
       "1.3871359948948425"
      ]
     },
     "execution_count": 36,
     "metadata": {},
     "output_type": "execute_result"
    }
   ],
   "source": [
    "Upper"
   ]
  },
  {
   "cell_type": "code",
   "execution_count": 49,
   "id": "22ce1954-ad49-4a27-be71-29fb9bef0943",
   "metadata": {},
   "outputs": [
    {
     "name": "stdout",
     "output_type": "stream",
     "text": [
      "99% Confidence Interval using Sample Standard Deviation: (1.1057, 1.3717)\n"
     ]
    }
   ],
   "source": [
    "print(f\"99% Confidence Interval using Sample Standard Deviation: ({Lower:.4f}, {Upper:.4f})\")"
   ]
  },
  {
   "cell_type": "markdown",
   "id": "c1118da9-5507-4e4f-995e-15319d952583",
   "metadata": {},
   "source": [
    "## b. Build 99% Confidence Interval Using Known Population Standard Deviation"
   ]
  },
  {
   "cell_type": "code",
   "execution_count": null,
   "id": "4df0e22f-619f-480b-bebc-047eb72a8c99",
   "metadata": {},
   "outputs": [],
   "source": [
    "# population standard deviation is 0.2 "
   ]
  },
  {
   "cell_type": "code",
   "execution_count": 37,
   "id": "48bd8a00-2419-44df-93bf-9fd76de54bdf",
   "metadata": {},
   "outputs": [],
   "source": [
    "n = 15"
   ]
  },
  {
   "cell_type": "code",
   "execution_count": 38,
   "id": "ccdebe27-9709-4346-85fa-9ba77f11b96a",
   "metadata": {},
   "outputs": [],
   "source": [
    "u = 0.2"
   ]
  },
  {
   "cell_type": "code",
   "execution_count": 39,
   "id": "a5810b71-4b04-4a7a-849d-93940f6b2e48",
   "metadata": {},
   "outputs": [],
   "source": [
    "confidence_level = 0.99"
   ]
  },
  {
   "cell_type": "code",
   "execution_count": 40,
   "id": "f27c458d-81cc-4e22-a228-97abed8e25ba",
   "metadata": {},
   "outputs": [],
   "source": [
    "z_value = stats.norm.ppf((1 + confidence_level) / 2)"
   ]
  },
  {
   "cell_type": "code",
   "execution_count": 41,
   "id": "05cc28ee-c0fd-4134-b32e-4a93525d26ee",
   "metadata": {},
   "outputs": [
    {
     "data": {
      "text/plain": [
       "2.5758293035489004"
      ]
     },
     "execution_count": 41,
     "metadata": {},
     "output_type": "execute_result"
    }
   ],
   "source": [
    "z_value"
   ]
  },
  {
   "cell_type": "code",
   "execution_count": 43,
   "id": "79db7b88-156e-4e8b-8f72-8722abd7a57c",
   "metadata": {},
   "outputs": [],
   "source": [
    "se_population = u/ np.sqrt(n)"
   ]
  },
  {
   "cell_type": "code",
   "execution_count": 44,
   "id": "a4bcda4a-ee5e-472c-bbfe-63b26f3ee615",
   "metadata": {},
   "outputs": [
    {
     "data": {
      "text/plain": [
       "0.051639777949432225"
      ]
     },
     "execution_count": 44,
     "metadata": {},
     "output_type": "execute_result"
    }
   ],
   "source": [
    "se_population"
   ]
  },
  {
   "cell_type": "code",
   "execution_count": null,
   "id": "f5fc26f6-7464-4537-9d8c-a88431722c40",
   "metadata": {},
   "outputs": [],
   "source": []
  },
  {
   "cell_type": "code",
   "execution_count": 46,
   "id": "c2c30e9b-94be-4a2d-86fc-02eeab4ceb28",
   "metadata": {},
   "outputs": [],
   "source": [
    "Lower = Mean - z_value * se_population\n",
    "Upper = Mean + z_value * se_population"
   ]
  },
  {
   "cell_type": "code",
   "execution_count": 47,
   "id": "ff3e507f-6af1-47f1-86d3-4d094891392c",
   "metadata": {},
   "outputs": [
    {
     "data": {
      "text/plain": [
       "1.1056514133957607"
      ]
     },
     "execution_count": 47,
     "metadata": {},
     "output_type": "execute_result"
    }
   ],
   "source": [
    "Lower"
   ]
  },
  {
   "cell_type": "code",
   "execution_count": 48,
   "id": "cb535cd7-e9d5-4f9b-91d4-ded0bc67da09",
   "metadata": {},
   "outputs": [
    {
     "data": {
      "text/plain": [
       "1.3716819199375725"
      ]
     },
     "execution_count": 48,
     "metadata": {},
     "output_type": "execute_result"
    }
   ],
   "source": [
    "Upper"
   ]
  },
  {
   "cell_type": "code",
   "execution_count": 50,
   "id": "835d2cfc-61dc-456f-b23e-5b84d3f1756a",
   "metadata": {},
   "outputs": [
    {
     "name": "stdout",
     "output_type": "stream",
     "text": [
      "99% Confidence Interval using Known Population Standard Deviation: (1.1057, 1.3717)\n"
     ]
    }
   ],
   "source": [
    "print(f\"99% Confidence Interval using Known Population Standard Deviation: ({Lower:.4f}, {Upper:.4f})\")"
   ]
  }
 ],
 "metadata": {
  "kernelspec": {
   "display_name": "Python 3 (ipykernel)",
   "language": "python",
   "name": "python3"
  },
  "language_info": {
   "codemirror_mode": {
    "name": "ipython",
    "version": 3
   },
   "file_extension": ".py",
   "mimetype": "text/x-python",
   "name": "python",
   "nbconvert_exporter": "python",
   "pygments_lexer": "ipython3",
   "version": "3.12.4"
  }
 },
 "nbformat": 4,
 "nbformat_minor": 5
}
