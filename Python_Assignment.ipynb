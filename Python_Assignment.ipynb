{
 "cells": [
  {
   "cell_type": "markdown",
   "id": "bd9f704b-8ef2-4748-88b9-2a44e4f6eb21",
   "metadata": {},
   "source": [
    "## Exercise 1: Prime Numbers\n",
    "Write a Python program that checks whether a given number is prime or not. A prime number is a natural number greater than 1 that has no positive divisors other than 1 and itself.\n"
   ]
  },
  {
   "cell_type": "code",
   "execution_count": 9,
   "id": "47cf8928-138a-43b1-a99c-e77648b29d0f",
   "metadata": {},
   "outputs": [],
   "source": [
    "import math"
   ]
  },
  {
   "cell_type": "code",
   "execution_count": 19,
   "id": "620e853e-4074-4925-8b89-0f64e3b74e9e",
   "metadata": {},
   "outputs": [],
   "source": [
    "import math\n",
    "def is_prime(n):\n",
    "    if n<=1:\n",
    "       return False\n",
    "    for i in range (2,int(math.sqrt(n))+1):\n",
    "        if n%i==0:\n",
    "         return False\n",
    "    return True\n"
   ]
  },
  {
   "cell_type": "code",
   "execution_count": 4,
   "id": "ecff7661-67a9-457e-8fa1-d212a082a7ac",
   "metadata": {},
   "outputs": [
    {
     "data": {
      "text/plain": [
       "False"
      ]
     },
     "execution_count": 4,
     "metadata": {},
     "output_type": "execute_result"
    }
   ],
   "source": [
    "is_prime(12)"
   ]
  },
  {
   "cell_type": "markdown",
   "id": "095aff9f-f500-4408-9178-88cd837c56dd",
   "metadata": {},
   "source": [
    "## Exercise 2: Product of Random Numbers\n",
    "Develop a Python program that generates two random numbers and asks the user to enter the product of these numbers. The program should then check if the user's answer is correct and display an appropriate message.\n"
   ]
  },
  {
   "cell_type": "code",
   "execution_count": 22,
   "id": "e6d737d5-305a-4234-bcdd-3203575f95ac",
   "metadata": {},
   "outputs": [],
   "source": [
    "import random\n",
    "\n",
    "def solve_quiz():\n",
    "    num1 = random.randint(1,10)\n",
    "    num2 = random.randint(1,10)\n",
    "    print('what is the product of {num1} and {num2}')\n",
    "    user_answer = int(input('enter your answer:'))\n",
    "    correct_answer = num1 * num2\n",
    "    if user_answer ==correct_answer:\n",
    "        print('correct Well done')\n",
    "    else:\n",
    "        print('incorrect,the correct answer is')\n",
    "    \n"
   ]
  },
  {
   "cell_type": "code",
   "execution_count": 23,
   "id": "e190713a-eb6f-4838-854a-8e7a2939f0cb",
   "metadata": {},
   "outputs": [
    {
     "name": "stdout",
     "output_type": "stream",
     "text": [
      "what is the product of {num1} and {num2}\n"
     ]
    },
    {
     "name": "stdin",
     "output_type": "stream",
     "text": [
      "enter your answer: 35\n"
     ]
    },
    {
     "name": "stdout",
     "output_type": "stream",
     "text": [
      "incorrect,the correct answer is\n"
     ]
    }
   ],
   "source": [
    "solve_quiz()"
   ]
  },
  {
   "cell_type": "markdown",
   "id": "87c2df6d-368a-40ed-adf9-2d0b36e50557",
   "metadata": {},
   "source": [
    "## Exercise 3: Squares of Even/Odd Numbers\n",
    "Create a Python script that prints the squares of all even or odd numbers within the range of 100 to 200. Choose either even or odd numbers and document your choice in the code.\n"
   ]
  },
  {
   "cell_type": "code",
   "execution_count": 34,
   "id": "e2284ebe-b4c2-4b1f-9c03-c69948c88586",
   "metadata": {},
   "outputs": [
    {
     "name": "stdout",
     "output_type": "stream",
     "text": [
      "100 10000\n",
      "102 10404\n",
      "104 10816\n",
      "106 11236\n",
      "108 11664\n",
      "110 12100\n",
      "112 12544\n",
      "114 12996\n",
      "116 13456\n",
      "118 13924\n",
      "120 14400\n",
      "122 14884\n",
      "124 15376\n",
      "126 15876\n",
      "128 16384\n",
      "130 16900\n",
      "132 17424\n",
      "134 17956\n",
      "136 18496\n",
      "138 19044\n",
      "140 19600\n",
      "142 20164\n",
      "144 20736\n",
      "146 21316\n",
      "148 21904\n",
      "150 22500\n",
      "152 23104\n",
      "154 23716\n",
      "156 24336\n",
      "158 24964\n",
      "160 25600\n",
      "162 26244\n",
      "164 26896\n",
      "166 27556\n",
      "168 28224\n",
      "170 28900\n",
      "172 29584\n",
      "174 30276\n",
      "176 30976\n",
      "178 31684\n",
      "180 32400\n",
      "182 33124\n",
      "184 33856\n",
      "186 34596\n",
      "188 35344\n",
      "190 36100\n",
      "192 36864\n",
      "194 37636\n",
      "196 38416\n",
      "198 39204\n",
      "200 40000\n"
     ]
    }
   ],
   "source": [
    "for num in range(100,201):\n",
    "    if num%2 ==0:\n",
    "        square  = num**2\n",
    "        print(num, num**2)\n",
    "\n"
   ]
  },
  {
   "cell_type": "code",
   "execution_count": null,
   "id": "0f651139-3f93-482c-b849-ee56127d9d78",
   "metadata": {},
   "outputs": [],
   "source": []
  },
  {
   "cell_type": "markdown",
   "id": "4fcd8483-ea4c-4d8e-8a10-5bd50209ccfc",
   "metadata": {},
   "source": [
    "## write a program to count the number of words in a given text.\n",
    "example:\n",
    "input_text = \"This is a sample text. This text will be used to demonstrate the word counter.\"\n"
   ]
  },
  {
   "cell_type": "code",
   "execution_count": 51,
   "id": "d4f73fa5-be29-4010-b00f-d10505dcf2a3",
   "metadata": {},
   "outputs": [
    {
     "name": "stdout",
     "output_type": "stream",
     "text": [
      "'this': 2\n",
      "'is': 1\n",
      "'a': 1\n",
      "'sample': 1\n",
      "'text': 2\n",
      "'will': 1\n",
      "'be': 1\n",
      "'used': 1\n",
      "'to': 1\n",
      "'demonstrate': 1\n",
      "'the': 1\n",
      "'word': 1\n",
      "'counter': 1\n"
     ]
    }
   ],
   "source": [
    "import string\n",
    "\n",
    "input_text = \"This is a sample text. This text will be used to demonstrate the word counter.\"\n",
    "\n",
    "input_text = input_text.lower()\n",
    "\n",
    "input_text = input_text.translate(str.maketrans(\"\", \"\", string.punctuation))\n",
    "words = input_text.split()\n",
    "word_count = {}\n",
    "\n",
    "for word in words:\n",
    "    if word in word_count:\n",
    "        word_count[word] += 1  \n",
    "    else:\n",
    "        word_count[word] = 1 \n",
    "\n",
    "for word, count in word_count.items():\n",
    "    print(f\"'{word}': {count}\")\n",
    "\n",
    "    \n",
    "    "
   ]
  },
  {
   "cell_type": "code",
   "execution_count": null,
   "id": "169fc76d-d7ab-42bd-ab58-e3d3107c4644",
   "metadata": {},
   "outputs": [],
   "source": []
  },
  {
   "cell_type": "markdown",
   "id": "10e5192c-a54a-417f-9b77-7c3e80e524c0",
   "metadata": {},
   "source": [
    "## Exercise 5: Check for Palindrome\n",
    "Write a Python function called is_palindrome that takes a string as input and returns True if the string is a palindrome, and False otherwise. A palindrome is a word, phrase, number, or other sequence of characters that reads the same forward and backward, ignoring spaces, punctuation, and capitalization.\n",
    "\n",
    "\n"
   ]
  },
  {
   "cell_type": "code",
   "execution_count": 52,
   "id": "8b0c09fb-9fa7-4b02-93d8-993a60e3ffd8",
   "metadata": {},
   "outputs": [
    {
     "name": "stdout",
     "output_type": "stream",
     "text": [
      "True\n"
     ]
    }
   ],
   "source": [
    "import string\n",
    "\n",
    "def is_palindrome(s):\n",
    "  \n",
    "    s = s.lower()\n",
    "    \n",
    "    s = s.translate(str.maketrans('', '', string.punctuation)).replace(\" \", \"\")\n",
    "    \n",
    "    \n",
    "    return s == s[::-1]\n",
    "\n",
    "test_string = \"racecar\"\n",
    "print(is_palindrome(test_string)) \n"
   ]
  },
  {
   "cell_type": "code",
   "execution_count": null,
   "id": "126af362-5448-4206-9e0b-3242cfc10c49",
   "metadata": {},
   "outputs": [],
   "source": []
  },
  {
   "cell_type": "code",
   "execution_count": null,
   "id": "a484ac01-5ebe-4742-95e5-e9c47f5e6535",
   "metadata": {},
   "outputs": [],
   "source": []
  }
 ],
 "metadata": {
  "kernelspec": {
   "display_name": "Python 3 (ipykernel)",
   "language": "python",
   "name": "python3"
  },
  "language_info": {
   "codemirror_mode": {
    "name": "ipython",
    "version": 3
   },
   "file_extension": ".py",
   "mimetype": "text/x-python",
   "name": "python",
   "nbconvert_exporter": "python",
   "pygments_lexer": "ipython3",
   "version": "3.12.4"
  }
 },
 "nbformat": 4,
 "nbformat_minor": 5
}
